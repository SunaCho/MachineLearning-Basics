{
 "cells": [
  {
   "cell_type": "markdown",
   "id": "52254cca",
   "metadata": {},
   "source": [
    "# Chapter 02. 데이터 다루기\n",
    "\n",
    "## 02-1. 훈련 세트와 테스트 세트\n",
    "\n",
    "* 지도 학습: 입력과 타깃으로 이루어진 훈련 데이터가 존재, 정답이 존재하여 알고리즘이 정답을 맞히는 것을 학습함\n",
    "* 비지도 학습: 타깃 없이 입력된 데이터의 성질 등을 분류, 데이터를 잘 이해하는 데 도움을 줌\n"
   ]
  },
  {
   "cell_type": "code",
   "execution_count": 1,
   "id": "d34ad2ce",
   "metadata": {},
   "outputs": [],
   "source": [
    "fish_length = [25.4, 26.3, 26.5, 29.0, 29.0, 29.7, 29.7, 30.0, 30.0, 30.7, 31.0, 31.0, \n",
    "                31.5, 32.0, 32.0, 32.0, 33.0, 33.0, 33.5, 33.5, 34.0, 34.0, 34.5, 35.0, \n",
    "                35.0, 35.0, 35.0, 36.0, 36.0, 37.0, 38.5, 38.5, 39.5, 41.0, 41.0, 9.8, \n",
    "                10.5, 10.6, 11.0, 11.2, 11.3, 11.8, 11.8, 12.0, 12.2, 12.4, 13.0, 14.3, 15.0]\n",
    "fish_weight = [242.0, 290.0, 340.0, 363.0, 430.0, 450.0, 500.0, 390.0, 450.0, 500.0, 475.0, 500.0, \n",
    "                500.0, 340.0, 600.0, 600.0, 700.0, 700.0, 610.0, 650.0, 575.0, 685.0, 620.0, 680.0, \n",
    "                700.0, 725.0, 720.0, 714.0, 850.0, 1000.0, 920.0, 955.0, 925.0, 975.0, 950.0, 6.7, \n",
    "                7.5, 7.0, 9.7, 9.8, 8.7, 10.0, 9.9, 9.8, 12.2, 13.4, 12.2, 19.7, 19.9]"
   ]
  },
  {
   "cell_type": "code",
   "execution_count": 2,
   "id": "cbfda8d9",
   "metadata": {},
   "outputs": [],
   "source": [
    "fish_data = [[l,w] for l,w in zip(fish_length,fish_weight)]\n",
    "fish_target=[1]*35 + [0]*14"
   ]
  },
  {
   "cell_type": "code",
   "execution_count": 3,
   "id": "006e2074",
   "metadata": {},
   "outputs": [],
   "source": [
    "from sklearn.neighbors import KNeighborsClassifier\n",
    "kn = KNeighborsClassifier()"
   ]
  },
  {
   "cell_type": "markdown",
   "id": "90e42a44",
   "metadata": {},
   "source": [
    "## 샘플링 편향\n",
    "\n",
    "* 훈련 세트와 테스트 세트가 골고루 섞이지 않고 한쪽으로 편향된 경우\n",
    "* Numpy 모듈로 랜덤하게 훈련 세트와 테스트 세트를 만들 수 있음"
   ]
  },
  {
   "cell_type": "code",
   "execution_count": 5,
   "id": "72567f84",
   "metadata": {},
   "outputs": [],
   "source": [
    "import numpy as np\n",
    "input_arr=np.array(fish_data)\n",
    "target_arr=np.array(fish_target)\n",
    "\n",
    "np.random.seed(42) # 랜덤시드 지정은 시도마다 다른 값이 나오는 것을 방지하는 역할을 함\n",
    "index = np.arange(49)\n",
    "np.random.shuffle(index)\n",
    "\n",
    "train_input = input_arr[index[:35]]\n",
    "train_target = target_arr[index[:35]]\n",
    "\n",
    "\n",
    "test_input = input_arr[index[35:]]\n",
    "test_target = target_arr[index[35:]]"
   ]
  },
  {
   "cell_type": "code",
   "execution_count": 6,
   "id": "d5df3778",
   "metadata": {},
   "outputs": [
    {
     "data": {
      "image/png": "[encoded data removed]",
      "text/plain": [
       "<Figure size 432x288 with 1 Axes>"
      ]
     },
     "metadata": {
      "needs_background": "light"
     },
     "output_type": "display_data"
    }
   ],
   "source": [
    "import matplotlib.pyplot as plt\n",
    "\n",
    "plt.scatter(train_input[:,0],train_input[:,1])\n",
    "plt.scatter(test_input[:,0],test_input[:,1])\n",
    "plt.xlabel('length')\n",
    "plt.ylabel('weight')\n",
    "plt.show()"
   ]
  },
  {
   "cell_type": "code",
   "execution_count": 8,
   "id": "ca64c1fc",
   "metadata": {},
   "outputs": [
    {
     "data": {
      "text/plain": [
       "1.0"
      ]
     },
     "execution_count": 8,
     "metadata": {},
     "output_type": "execute_result"
    }
   ],
   "source": [
    "kn.fit(train_input,train_target)\n",
    "kn.score(test_input,test_target)"
   ]
  },
  {
   "cell_type": "code",
   "execution_count": 9,
   "id": "d7b28209",
   "metadata": {},
   "outputs": [
    {
     "data": {
      "text/plain": [
       "array([0, 0, 1, 0, 1, 1, 1, 0, 1, 1, 0, 1, 1, 0])"
      ]
     },
     "execution_count": 9,
     "metadata": {},
     "output_type": "execute_result"
    }
   ],
   "source": [
    "kn.predict(test_input)"
   ]
  },
  {
   "cell_type": "code",
   "execution_count": 10,
   "id": "4c5677bd",
   "metadata": {},
   "outputs": [
    {
     "data": {
      "text/plain": [
       "array([0, 0, 1, 0, 1, 1, 1, 0, 1, 1, 0, 1, 1, 0])"
      ]
     },
     "execution_count": 10,
     "metadata": {},
     "output_type": "execute_result"
    }
   ],
   "source": [
    "test_target"
   ]
  },
  {
   "cell_type": "markdown",
   "id": "fa3db823",
   "metadata": {},
   "source": [
    "## 02-2. 데이터 전처리\n",
    "\n",
    "* 데이터의 스케일링에 오류가 있으면 k-최근접 알고리즘 등을 사용할 때 오류가 발생할 수 있음\n",
    "* 해결책: Z-score 등 정규화 과정 필요\n",
    "\n",
    "### p.90 그림\n",
    "\n",
    "* `np.column_stack()`: 주어진 배열을 Transpose 하여 우측으로 붙여 나가는 것\n",
    "* `np.concatenate()`: 주어진 배열을 기존 차원을 따라 연결하는 것\n",
    "* 연결할 리스트는 Python 튜플로 전달\n"
   ]
  },
  {
   "cell_type": "code",
   "execution_count": 12,
   "id": "e2b6be6a",
   "metadata": {},
   "outputs": [],
   "source": [
    "fish_data=np.column_stack((fish_length, fish_weight))\n",
    "fish_target=np.concatenate((np.ones(35),np.zeros(14)))"
   ]
  },
  {
   "cell_type": "code",
   "execution_count": 13,
   "id": "a7332c32",
   "metadata": {},
   "outputs": [],
   "source": [
    "from sklearn.model_selection import train_test_split\n",
    "\n",
    "train_input, test_input, train_target, test_target = train_test_split(fish_data, fish_target, stratify=fish_target,random_state=42)"
   ]
  },
  {
   "cell_type": "code",
   "execution_count": 14,
   "id": "703cded0",
   "metadata": {},
   "outputs": [
    {
     "data": {
      "text/plain": [
       "1.0"
      ]
     },
     "execution_count": 14,
     "metadata": {},
     "output_type": "execute_result"
    }
   ],
   "source": [
    "from sklearn.neighbors import KNeighborsClassifier\n",
    "kn=KNeighborsClassifier()\n",
    "kn.fit(train_input,train_target)\n",
    "kn.score(test_input,test_target)"
   ]
  },
  {
   "cell_type": "markdown",
   "id": "0d9b582d",
   "metadata": {},
   "source": [
    "### 문제점 발생\n",
    "\n",
    "* [25,150]을 잘못 예측한다는 단점 확인\n",
    "\n",
    "### p.92 사이킷런에서의 train_test_spilt\n",
    "\n",
    "* `train_test_split`은 25%를 테스트 세트로 떼어냄 (default)\n",
    "* 분류되는 과정에서 input과 target의 index는 동일하게 유지되겠지?\n",
    "* `stratify`: 클래스 비율이 일정하도록 fish_target을 지정해 줌"
   ]
  },
  {
   "cell_type": "code",
   "execution_count": 15,
   "id": "f587ef51",
   "metadata": {},
   "outputs": [
    {
     "name": "stdout",
     "output_type": "stream",
     "text": [
      "[0.]\n"
     ]
    }
   ],
   "source": [
    "print(kn.predict([[25,150]]))"
   ]
  },
  {
   "cell_type": "code",
   "execution_count": 16,
   "id": "61b8e204",
   "metadata": {},
   "outputs": [
    {
     "data": {
      "image/png": "[encoded data removed]",
      "text/plain": [
       "<Figure size 432x288 with 1 Axes>"
      ]
     },
     "metadata": {
      "needs_background": "light"
     },
     "output_type": "display_data"
    }
   ],
   "source": [
    "plt.scatter(train_input[:,0],train_input[:,1])\n",
    "plt.scatter(25,150,marker='^')\n",
    "plt.xlabel('length')\n",
    "plt.ylabel('weight')\n",
    "plt.show()"
   ]
  },
  {
   "cell_type": "code",
   "execution_count": 17,
   "id": "6582d696",
   "metadata": {},
   "outputs": [],
   "source": [
    "distances,indexes=kn.kneighbors([[25,150]])"
   ]
  },
  {
   "cell_type": "code",
   "execution_count": 21,
   "id": "a904a1a9",
   "metadata": {},
   "outputs": [
    {
     "data": {
      "text/plain": [
       "array([[ 92.00086956, 130.48375378, 130.73859415, 138.32150953,\n",
       "        138.39320793]])"
      ]
     },
     "execution_count": 21,
     "metadata": {},
     "output_type": "execute_result"
    }
   ],
   "source": [
    "distances"
   ]
  },
  {
   "cell_type": "code",
   "execution_count": 22,
   "id": "e616f768",
   "metadata": {},
   "outputs": [
    {
     "data": {
      "image/png": "[encoded data removed]",
      "text/plain": [
       "<Figure size 432x288 with 1 Axes>"
      ]
     },
     "metadata": {
      "needs_background": "light"
     },
     "output_type": "display_data"
    }
   ],
   "source": [
    "plt.scatter(train_input[:,0],train_input[:,1])\n",
    "plt.scatter(25,150,marker='^')\n",
    "plt.scatter(train_input[indexes,0],train_input[indexes,1],marker='D')\n",
    "plt.xlim((0,1000))\n",
    "plt.xlabel('length')\n",
    "plt.ylabel('weight')\n",
    "plt.show()"
   ]
  },
  {
   "cell_type": "markdown",
   "id": "00c2e1ef",
   "metadata": {},
   "source": [
    "### 문제점 발생\n",
    "\n",
    "* [25,150]을 잘못 예측한다는 단점 확인\n",
    "* 스케일링 오류: 모든 알고리즘이 거리 기반인 건 아니지만, KNeighborsClassifier에서 kneighbors()로 거리와 이웃 샘플 인덱스를 저장하고 있는 것을 확인할 수 있음. 이 알고리즘은 거리가 중요한 요소인데, 여기서는 특성 간에 Scaling이 되지 않은 상태라 문제.\n",
    "\n",
    "### 표준점수(Standard Score)\n",
    "\n",
    "* Z점수 구하는 공식 그대로 대입\n",
    "* 브로드캐스팅(Broadcasting): 넘파이 배열 사이에서 전체 행과 열에 대해 평균 빼 주고, 표준편차 나눠 주는 것과 같은 기능"
   ]
  },
  {
   "cell_type": "code",
   "execution_count": 23,
   "id": "c51dc86f",
   "metadata": {},
   "outputs": [
    {
     "data": {
      "text/plain": [
       "1.0"
      ]
     },
     "execution_count": 23,
     "metadata": {},
     "output_type": "execute_result"
    }
   ],
   "source": [
    "mean=np.mean(train_input,axis=0)\n",
    "std=np.std(train_input,axis=0)\n",
    "\n",
    "train_scaled=(train_input - mean)/std\n",
    "test_scaled=(test_input-mean)/std\n",
    "new = ([25,150]-mean)/std\n",
    "\n",
    "kn.fit(train_scaled,train_target)\n",
    "kn.score(test_scaled,test_target)"
   ]
  },
  {
   "cell_type": "code",
   "execution_count": 24,
   "id": "a5c31123",
   "metadata": {},
   "outputs": [
    {
     "data": {
      "text/plain": [
       "array([1.])"
      ]
     },
     "execution_count": 24,
     "metadata": {},
     "output_type": "execute_result"
    }
   ],
   "source": [
    "kn.predict([new])"
   ]
  },
  {
   "cell_type": "code",
   "execution_count": 33,
   "id": "db253167",
   "metadata": {},
   "outputs": [
    {
     "data": {
      "image/png": "[encoded data removed]",
      "text/plain": [
       "<Figure size 432x288 with 1 Axes>"
      ]
     },
     "metadata": {
      "needs_background": "light"
     },
     "output_type": "display_data"
    }
   ],
   "source": [
    "distances,indexes=kn.kneighbors([new])\n",
    "\n",
    "plt.scatter(train_scaled[:,0],train_scaled[:,1])\n",
    "plt.scatter(new[0],new[1],marker='^')\n",
    "plt.scatter(train_scaled[indexes,0],train_scaled[indexes,1],marker='D')\n",
    "plt.xlim((-2,1.5))\n",
    "plt.xlabel('length')\n",
    "plt.ylabel('weight')\n",
    "plt.show()"
   ]
  }
 ],
 "metadata": {
  "kernelspec": {
   "display_name": "Python 3 (ipykernel)",
   "language": "python",
   "name": "python3"
  },
  "language_info": {
   "codemirror_mode": {
    "name": "ipython",
    "version": 3
   },
   "file_extension": ".py",
   "mimetype": "text/x-python",
   "name": "python",
   "nbconvert_exporter": "python",
   "pygments_lexer": "ipython3",
   "version": "3.9.12"
  }
 },
 "nbformat": 4,
 "nbformat_minor": 5
}
